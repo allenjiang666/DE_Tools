{
 "cells": [
  {
   "cell_type": "code",
   "execution_count": 193,
   "id": "a116606a-dc64-49aa-9b5d-79f50e13685c",
   "metadata": {},
   "outputs": [],
   "source": [
    "import json\n",
    "\n",
    "metadata =  {'user': 'Jim',\n",
    "  'name': 'LTCP',\n",
    "  'steps': [],\n",
    "  'type': 'batch',\n",
    "  'features': {'name': 'LTCP_features',\n",
    "   'online': False,\n",
    "   'offline': True,\n",
    "   'schema': ['PREMIER_ALL5020_EXP',\n",
    "    'GDS_UW_360',\n",
    "    'ML098',\n",
    "    'PREMIER_ALL5935_EXP',\n",
    "    'MARL_UW_006',\n",
    "    'AFFILIATE']},\n",
    "  'lambda': {'runtime': 'python3.8',\n",
    "   'layers': ['arn:aws:lambda:us-east-1:336392948345:layer:AWSSDKPandas-Python38:2']}}"
   ]
  },
  {
   "cell_type": "code",
   "execution_count": 194,
   "id": "08e14b97-62f4-4727-a0fe-64b079e8e488",
   "metadata": {},
   "outputs": [
    {
     "name": "stdout",
     "output_type": "stream",
     "text": [
      "200\n",
      "{\"id\":\"LTCP\",\"data\":\"{\\\"user\\\": \\\"Jim\\\", \\\"name\\\": \\\"LTCP\\\", \\\"steps\\\": [], \\\"type\\\": \\\"batch\\\", \\\"features\\\": {\\\"name\\\": \\\"LTCP_features\\\", \\\"online\\\": false, \\\"offline\\\": true, \\\"schema\\\": [\\\"PREMIER_ALL5020_EXP\\\", \\\"GDS_UW_360\\\", \\\"ML098\\\", \\\"PREMIER_ALL5935_EXP\\\", \\\"MARL_UW_006\\\", \\\"AFFILIATE\\\"]}, \\\"lambda\\\": {\\\"runtime\\\": \\\"python3.8\\\", \\\"layers\\\": [\\\"arn:aws:lambda:us-east-1:336392948345:layer:AWSSDKPandas-Python38:2\\\"]}}\"}\n"
     ]
    }
   ],
   "source": [
    "import requests\n",
    "import json\n",
    "\n",
    "url = 'http://localhost:8000/items/'\n",
    "\n",
    "# Data to send in the JSON format\n",
    "data = {\n",
    "        \"id\": metadata['name'],\n",
    "        \"data\": json.dumps(metadata)\n",
    "    }\n",
    "\n",
    "# Convert the Python dictionary to a JSON string\n",
    "json_data = json.dumps(data)\n",
    "\n",
    "# Set the headers\n",
    "headers = {\n",
    "    'Content-Type': 'application/json'\n",
    "}\n",
    "\n",
    "# Make the POST request\n",
    "response = requests.post(url, data=json_data, headers=headers)\n",
    "\n",
    "# Print the response\n",
    "print(response.status_code)\n",
    "print(response.text)"
   ]
  },
  {
   "cell_type": "markdown",
   "id": "b3b1df34-84c7-41f0-b4ab-71030da5d798",
   "metadata": {},
   "source": [
    "## ## Detelte"
   ]
  },
  {
   "cell_type": "code",
   "execution_count": 2,
   "id": "a469efb7-7421-44c8-a545-e145f45a1b8e",
   "metadata": {},
   "outputs": [
    {
     "data": {
      "text/plain": [
       "{'id': 'LTP', 'data': None}"
      ]
     },
     "execution_count": 2,
     "metadata": {},
     "output_type": "execute_result"
    }
   ],
   "source": [
    "import requests\n",
    "import json\n",
    "\n",
    "url = 'http://localhost:8000/items/LTP'\n",
    "\n",
    "\n",
    "\n",
    "# Make the POST request\n",
    "response = requests.delete(url)\n",
    "\n",
    "# Print the response\n",
    "response.json()"
   ]
  },
  {
   "cell_type": "code",
   "execution_count": 191,
   "id": "214cb383-3b87-4c48-98e0-5dc3c58db673",
   "metadata": {},
   "outputs": [
    {
     "name": "stdout",
     "output_type": "stream",
     "text": [
      "[[\"LTP\",\"Allen\",\"realtime\"]]\n"
     ]
    }
   ],
   "source": [
    "import requests\n",
    "import json\n",
    "\n",
    "url = 'http://localhost:8000/items/'\n",
    "\n",
    "# Make the POST request\n",
    "response = requests.get(url)\n",
    "\n",
    "# Print the response\n",
    "print(response.text)"
   ]
  },
  {
   "cell_type": "code",
   "execution_count": null,
   "id": "aaaacd1d-217b-4268-9a84-1995821fbd75",
   "metadata": {},
   "outputs": [],
   "source": [
    "import requests\n",
    "import json\n",
    "\n",
    "url = 'http://localhost:8000/items/LTP'\n",
    "\n",
    "# Make the POST request\n",
    "response = requests.get(url)\n",
    "\n",
    "# Print the response\n",
    "response.json()"
   ]
  },
  {
   "cell_type": "code",
   "execution_count": 187,
   "id": "86eaa687-529d-43f7-b55f-1a44be4ec84a",
   "metadata": {},
   "outputs": [
    {
     "name": "stdout",
     "output_type": "stream",
     "text": [
      "200\n"
     ]
    },
    {
     "data": {
      "text/plain": [
       "[]"
      ]
     },
     "execution_count": 187,
     "metadata": {},
     "output_type": "execute_result"
    }
   ],
   "source": [
    "import requests\n",
    "import json\n",
    "\n",
    "url = 'http://localhost:8000/items/?type=batch'\n",
    "\n",
    "\n",
    "\n",
    "# Make the POST request\n",
    "response = requests.get(url)\n",
    "\n",
    "# Print the response\n",
    "print(response.status_code)\n",
    "json.loads(response.content)"
   ]
  },
  {
   "cell_type": "code",
   "execution_count": null,
   "id": "1bc6f0c8-b2c6-4858-b997-b279708ea418",
   "metadata": {},
   "outputs": [],
   "source": []
  }
 ],
 "metadata": {
  "kernelspec": {
   "display_name": "Python 3 (ipykernel)",
   "language": "python",
   "name": "python3"
  },
  "language_info": {
   "codemirror_mode": {
    "name": "ipython",
    "version": 3
   },
   "file_extension": ".py",
   "mimetype": "text/x-python",
   "name": "python",
   "nbconvert_exporter": "python",
   "pygments_lexer": "ipython3",
   "version": "3.9.15"
  }
 },
 "nbformat": 4,
 "nbformat_minor": 5
}
